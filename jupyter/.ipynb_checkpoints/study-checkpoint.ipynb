{
 "cells": [
  {
   "cell_type": "code",
   "execution_count": 1,
   "id": "f36f7790-8e0b-4893-ac62-deeeb4aa81d8",
   "metadata": {},
   "outputs": [
    {
     "name": "stdout",
     "output_type": "stream",
     "text": [
      "[[1, 7], [2, 8], [3, 9], [4, 0], [5, 1]]\n"
     ]
    }
   ],
   "source": [
    "# python comprehension\n",
    "a1 = [1,2,3,4,5]\n",
    "b1 = [7,8,9,0,1]\n",
    "\n",
    "c = [[a, b] for a, b in zip(a1,b1)]\n",
    "\n",
    "print(c)"
   ]
  },
  {
   "cell_type": "code",
   "execution_count": 6,
   "id": "8207f93d-a363-42ae-9223-fc5c61e91d89",
   "metadata": {},
   "outputs": [
    {
     "name": "stdout",
     "output_type": "stream",
     "text": [
      "[1 2 3]\n"
     ]
    }
   ],
   "source": [
    "import numpy as np\n",
    "\n",
    "aaa = np.array([1, 2, 3])\n",
    "\n",
    "print(aaa)"
   ]
  },
  {
   "cell_type": "code",
   "execution_count": 7,
   "id": "3cf56db4-786a-4452-84d6-c113bc0729b8",
   "metadata": {},
   "outputs": [
    {
     "name": "stdout",
     "output_type": "stream",
     "text": [
      "[[-0.17246257 -0.58669517 -0.08478519]\n",
      " [ 2.65653933 -1.93726059  0.07423239]]\n"
     ]
    }
   ],
   "source": [
    "data = np.random.randn(2, 3)\n",
    "\n",
    "print(data)"
   ]
  },
  {
   "cell_type": "code",
   "execution_count": null,
   "id": "8aff1428-a012-41a5-a7b7-d3fe06de3df9",
   "metadata": {},
   "outputs": [],
   "source": [
    "import matplotlib.pyplot as plt\n",
    "\n"
   ]
  }
 ],
 "metadata": {
  "kernelspec": {
   "display_name": "Python 3 (ipykernel)",
   "language": "python",
   "name": "python3"
  },
  "language_info": {
   "codemirror_mode": {
    "name": "ipython",
    "version": 3
   },
   "file_extension": ".py",
   "mimetype": "text/x-python",
   "name": "python",
   "nbconvert_exporter": "python",
   "pygments_lexer": "ipython3",
   "version": "3.12.9"
  }
 },
 "nbformat": 4,
 "nbformat_minor": 5
}
