{
 "cells": [
  {
   "cell_type": "code",
   "execution_count": 1,
   "id": "02025d36-670b-4d50-b091-6c0b0a75d1f5",
   "metadata": {},
   "outputs": [],
   "source": [
    "%config Completer.use_jedi = False"
   ]
  },
  {
   "cell_type": "code",
   "execution_count": null,
   "id": "a3db31c1-0729-458f-a166-ba59b91dfbaf",
   "metadata": {},
   "outputs": [],
   "source": [
    "import numpy as np\n",
    "import Te\n",
    "\n",
    "np.arra"
   ]
  }
 ],
 "metadata": {
  "kernelspec": {
   "display_name": "Python 3 (ipykernel)",
   "language": "python",
   "name": "python3"
  },
  "language_info": {
   "codemirror_mode": {
    "name": "ipython",
    "version": 3
   },
   "file_extension": ".py",
   "mimetype": "text/x-python",
   "name": "python",
   "nbconvert_exporter": "python",
   "pygments_lexer": "ipython3",
   "version": "3.12.9"
  }
 },
 "nbformat": 4,
 "nbformat_minor": 5
}
