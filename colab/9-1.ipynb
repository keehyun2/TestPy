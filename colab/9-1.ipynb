{
  "nbformat": 4,
  "nbformat_minor": 0,
  "metadata": {
    "colab": {
      "provenance": [],
      "authorship_tag": "ABX9TyOhtSOAaXT1sV50fs7njxhp",
      "include_colab_link": true
    },
    "kernelspec": {
      "name": "python3",
      "display_name": "Python 3"
    },
    "language_info": {
      "name": "python"
    }
  },
  "cells": [
    {
      "cell_type": "markdown",
      "metadata": {
        "id": "view-in-github",
        "colab_type": "text"
      },
      "source": [
        "<a href=\"https://colab.research.google.com/github/keehyun2/TestPy/blob/master/colab/9-1.ipynb\" target=\"_parent\"><img src=\"https://colab.research.google.com/assets/colab-badge.svg\" alt=\"Open In Colab\"/></a>"
      ]
    },
    {
      "cell_type": "code",
      "execution_count": null,
      "metadata": {
        "id": "920eTgoYjLs9"
      },
      "outputs": [],
      "source": [
        "# RNN - Recurrent nural net(network), 순환 신경망\n",
        "# CNN - Convolutional nural net(network), 합성곱 신경망\n",
        "# Sequential date - 순차데이터\n",
        "# Time series date - 시계열 데이터 - 주식, 날씨\n",
        "# cell - 순한 신경망에서 사용하는 layer 를 표현하는 용어(뉴런 여러개)\n",
        "# hidden state (은닉상태) - 셀의 출력을 은닉상태라 표현\n",
        "# corpus - 말뭉치\n",
        "# token - 학습 목적으로 문장을 여러개의 텍스트로 분리하는데 이를 토큰이라함.\n",
        "\n",
        "\n",
        "# FFNN - 피드포워드 신경망 ?\n"
      ]
    }
  ]
}