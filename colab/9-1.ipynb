{
  "nbformat": 4,
  "nbformat_minor": 0,
  "metadata": {
    "colab": {
      "provenance": [],
      "authorship_tag": "ABX9TyO5JyISCQxoiakbXSAcptfH",
      "include_colab_link": true
    },
    "kernelspec": {
      "name": "python3",
      "display_name": "Python 3"
    },
    "language_info": {
      "name": "python"
    }
  },
  "cells": [
    {
      "cell_type": "markdown",
      "metadata": {
        "id": "view-in-github",
        "colab_type": "text"
      },
      "source": [
        "<a href=\"https://colab.research.google.com/github/keehyun2/TestPy/blob/master/colab/9-1.ipynb\" target=\"_parent\"><img src=\"https://colab.research.google.com/assets/colab-badge.svg\" alt=\"Open In Colab\"/></a>"
      ]
    },
    {
      "cell_type": "code",
      "execution_count": null,
      "metadata": {
        "id": "920eTgoYjLs9"
      },
      "outputs": [],
      "source": [
        "# 혼공머 강의 요약 -  https://claude.ai/public/artifacts/8cd85e8b-f0ec-4275-8268-e561ee0147a6\n",
        "\n",
        "# 딥 러닝을 이용한 자연어 처리 입문 > RNN - https://wikidocs.net/48558\n",
        "\n",
        "# cs231n RNN slide - https://cs231n.stanford.edu/slides/2025/lecture_7.pdf\n",
        "\n",
        "# 혼공머 용어노트 - https://hongong.hanbit.co.kr/wp-content/uploads/2025/03/%ED%98%BC%EC%9E%90-%EA%B3%B5%EB%B6%80%ED%95%98%EB%8A%94-%EB%A8%B8%EC%8B%A0%EB%9F%AC%EB%8B%9D%EB%94%A5%EB%9F%AC%EB%8B%9D%EA%B0%9C%EC%A0%95%ED%8C%90_%EC%9A%A9%EC%96%B4%EB%85%B8%ED%8A%B8.pdf\n",
        "\n",
        "# 9장 용어정리\n",
        "\n",
        "# RNN - Recurrent nueral net(network), 순환 신경망\n",
        "# CNN - Convolutional nueral net(network), 합성곱 신경망\n",
        "# Sequential data - 순차데이터\n",
        "# Time series data - 시계열 데이터 - 주식, 날씨\n",
        "# cell - 순한 신경망에서 사용하는 layer 를 표현하는 용어(뉴런 여러개)\n",
        "# hidden state (은닉상태) - 셀의 출력을 은닉상태라 표현\n",
        "\n",
        "# 아직 안나온 용어\n",
        "\n",
        "# token - 학습 목적으로 문장을 여러개의 텍스트로 분리하는데 이를 토큰이라함.\n",
        "# corpus - 말뭉치\n"
      ]
    }
  ]
}